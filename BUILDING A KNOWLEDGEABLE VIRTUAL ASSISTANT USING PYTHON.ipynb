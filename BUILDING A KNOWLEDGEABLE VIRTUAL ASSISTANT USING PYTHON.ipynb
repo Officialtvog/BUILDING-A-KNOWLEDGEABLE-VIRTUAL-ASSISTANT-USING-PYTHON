{
 "cells": [
  {
   "cell_type": "markdown",
   "metadata": {},
   "source": [
    "# BUILDING A KNOWLEDGEABLE VIRTUAL ASSISTANT  USING PYTHON  \n",
    "\n",
    "# WHO CAN ANSWER QUESTIONS\n",
    "\n",
    "\n",
    "I am temitope olanipekun (ML Engineer) i will be building a virtual assistant using python\n",
    "\n",
    "\n",
    "The duties of this virtual assistant consist of\n",
    "\n",
    "1...getting the date\n",
    "\n",
    "2....current time \n",
    "\n",
    "3....also responds back with a random greeting\n",
    "\n",
    "and 4.....returns information on a person\n",
    "\n",
    "Because of my love for AI i tend to gain pleasure dealing with chatbots and also virtual assistants to carry out\n",
    "\n",
    "specific tasks which are done by humans\n",
    "\n",
    "\n",
    "well i built this to attest to that fact......\n",
    "\n",
    "\n",
    "i will defintely give kudos to reserach done for this to be posible...."
   ]
  },
  {
   "cell_type": "markdown",
   "metadata": {},
   "source": [
    "pls to carry out tasks like this\n",
    "\n",
    "you need to install some libraries first....."
   ]
  },
  {
   "cell_type": "code",
   "execution_count": 19,
   "metadata": {},
   "outputs": [],
   "source": [
    "import speech_recognition as sr\n",
    "import os\n",
    "from gtts import gTTS\n",
    "import datetime\n",
    "import warnings\n",
    "import calendar\n",
    "import random\n",
    "import wikipedia\n",
    "\n",
    "#ignore warning messages\n",
    "warnings.filterwarnings(\"ignore\")"
   ]
  },
  {
   "cell_type": "markdown",
   "metadata": {},
   "source": [
    "we will first activate our microphone to record the audio,so if i tell my virtual assistant somehting,it needs to listen\n",
    "it will have the mic to listen to the audio,then we would translate the audio to text or a string\n",
    "and with that text we are going to perform a command...well the command we give it.."
   ]
  },
  {
   "cell_type": "code",
   "execution_count": 20,
   "metadata": {},
   "outputs": [],
   "source": [
    "# record audio and return it as a string\n",
    "\n",
    "def recordAudio():\n",
    "    #recod the audio\n",
    "    r = sr.Recognizer() # creating a recognizer object\n",
    "    \n",
    "    #open the microphone and start recording\n",
    "    with sr.Microphone() as source:\n",
    "        print(\"say something!\")\n",
    "        audio = r.listen(source)\n",
    "        #use google speech recognition\n",
    "        data = \"\"\n",
    "        try:\n",
    "            data = r.recognize_google()#it will help us recognize what we are listening for\n",
    "            print(\"you said: \"+data)\n",
    "        except sr.UknownValueError: #check for unknown errors\n",
    "             print(\"Google speech could not understand the audio, UnKNOWN ERROR\") \n",
    "        except sr.RequestError as e:\n",
    "                    print(\"Request results from Google speech Recognition service error\" +e)\n",
    "                    #the above happens when google is not understanding the speech\n",
    "                    \n",
    "                    return data"
   ]
  },
  {
   "cell_type": "code",
   "execution_count": null,
   "metadata": {},
   "outputs": [],
   "source": [
    "recordAudio()"
   ]
  },
  {
   "cell_type": "code",
   "execution_count": null,
   "metadata": {},
   "outputs": [],
   "source": []
  },
  {
   "cell_type": "code",
   "execution_count": 22,
   "metadata": {},
   "outputs": [],
   "source": [
    "# A function to get the virtuals assistant response\n",
    "def assistantResponse(test):\n",
    "    print(text)\n",
    "    \n",
    "    #convert the text to speech\n",
    "    myobj = gTTS(text = text, lang = \"en\", slow= False)\n",
    "    #save the converted audio to a file\n",
    "    myobj.save(\"assistant_response.mp3\")\n",
    "    #play the converted file\n",
    "    os.system(\"start assistant_response.mp3\")"
   ]
  },
  {
   "cell_type": "code",
   "execution_count": 25,
   "metadata": {},
   "outputs": [
    {
     "name": "stdout",
     "output_type": "stream",
     "text": [
      "This is my groove\n"
     ]
    }
   ],
   "source": [
    "text = \"This is my groove\"\n",
    "assistantResponse(text)"
   ]
  },
  {
   "cell_type": "code",
   "execution_count": 45,
   "metadata": {},
   "outputs": [],
   "source": [
    "#functions for wake words or phrase\n",
    "def wakeword(text):\n",
    "    WAKE_WORDS = [\"hey laptop\",\"wasup laptop\",\"yo laptop\"]\n",
    "    \n",
    "    #the reason for this is beacuse all the wake words are in lower case..\n",
    "    text = text.lower()#converting the text to all lower case words\n",
    "    \n",
    "    #to check to see if the users command/text contains the wakeword/phrase\n",
    "    for phrase in WAKE_WORDS:\n",
    "        if phrase in text:\n",
    "            return True\n",
    "        \n",
    "        #if the wake word isnt found in the text from the loop and so it returns false\n",
    "        return False"
   ]
  },
  {
   "cell_type": "code",
   "execution_count": 34,
   "metadata": {},
   "outputs": [
    {
     "name": "stdout",
     "output_type": "stream",
     "text": [
      "today is Wednesday December the 2nd.\n"
     ]
    }
   ],
   "source": [
    "# A function to get the current date\n",
    "def getDate():\n",
    "    now = datetime.datetime.now()\n",
    "    my_date = datetime.datetime.today()\n",
    "    weekday = calendar.day_name[my_date.weekday()] #for example wednesday\n",
    "    monthNum = now.month\n",
    "    dayNum =now.day\n",
    "    \n",
    "    #list of months\n",
    "    month_names = [\"January\",\"Febuary\",\"March\",\"April\",\"May\",'June',\"July\",\"August\",\"September\",\"October\",\n",
    "                   \"November\",\"December\"]\n",
    "    \n",
    "    #list of ordinal numbers\n",
    "    ordinalNumbers = [\"1st\",\"2nd\",\"3rd\",\"4th\",\"5th\",\"6th\",\"7th\",\"8th\",\"9th\",\"10th\",\"11th\",\"12th\",\"13th\",\"14th\",\n",
    "                    \"15th\",\"16th\",\"17th\",\"18th\",\"19th\",\"20th\",\"21st\",\"22nd\",\"23rd\",\"24th\",\"25th\",\"26th\",\"27th\",\n",
    "                    \"28th\",\"29th\",\"30th\",\"31st\"]\n",
    "    \n",
    "    return \"today is \"  + weekday + \" \" +month_names[monthNum-1]+\" the \"+ ordinalNumbers[dayNum -1]+\".\"\n",
    "\n"
   ]
  },
  {
   "cell_type": "code",
   "execution_count": 37,
   "metadata": {},
   "outputs": [],
   "source": [
    "# A function to return a random greeting response\n",
    "def greeting(text):\n",
    "    #greeting inputs\n",
    "    GREETING_INPUTS = [\"hey\",\"whatsup\",\"howdy\",\"hihi\"]\n",
    "    #greeting responses\n",
    "    GREETING_RESPONSE = [\"hello\",\"how are you\",\"yoyo\",\"holla\"]\n",
    "    \n",
    "    #if the users input is a greeting then return a randomly chossen greeting response\n",
    "    for word in text.split():\n",
    "        if word.lower()in GREETING_INPUTS:\n",
    "            return random.choice(GREETING_RESPONSE)+ \".\"\n",
    "    #if there are no greetings then return an empty string\n",
    "    return \".\"\n",
    "    "
   ]
  },
  {
   "cell_type": "code",
   "execution_count": 43,
   "metadata": {},
   "outputs": [],
   "source": [
    "#A function to get a persons first and last name from the text\n",
    "\n",
    "def getPerson(text):\n",
    "    wordList = text.split()#spliiting the text into a list of words\n",
    "    \n",
    "    for i in range(0,len(wordList)):\n",
    "        if i + 3 <= len (wordList) -1 and wordList[i].lower() == \"who\" and wordList [i+1].lower()== \"is\":\n",
    "            return wordList[i+2] + \" \" + wordList [i+3]\n",
    "    "
   ]
  },
  {
   "cell_type": "code",
   "execution_count": null,
   "metadata": {},
   "outputs": [
    {
     "name": "stdout",
     "output_type": "stream",
     "text": [
      "say something!\n"
     ]
    }
   ],
   "source": [
    "while True:\n",
    "    text = recordAudio()\n",
    "    response = \"\"\n",
    "    \n",
    "    #check for the wake word/ phrase\n",
    "    if(Wakeword(text) == True):\n",
    "        #check for the greetings by the user\n",
    "        response = respons + greeting(text)\n",
    "        \n",
    "        #check to see if the user said anything relating with the date\n",
    "        if(\"date\" in text):\n",
    "            get_date = getDate()\n",
    "            response = response + \" \" + get_date\n",
    "            \n",
    "            #check to see the user said anything having to do with time\n",
    "            if(\"time\" in text):\n",
    "                now = datetime.datetime.now()\n",
    "                midday = \"\"\n",
    "                if now.hour >= 12:\n",
    "                    midday = \"p.m\" # post mid day\n",
    "                    hour = now.hour -12\n",
    "                else:\n",
    "                        morning = \"am\" \n",
    "                        hour = now.hour\n",
    "                        #convert minute into a string\n",
    "                        if now.minute < 10:\n",
    "                            minute = \"0\" + str(now.minute)\n",
    "                        else:\n",
    "                                minute = str(now.minute)\n",
    "                                response = response + \" \" +\"it is \"+ str(hour)+ \":\" + minute +\" \"+ midday + \".\"\n",
    "           \n",
    "        \n",
    "        \n",
    "            #check to see if the user said who is\n",
    "            if(\"who is\" in text):\n",
    "                person = getPerson(text)\n",
    "                wiki = wikipedia.summary(person,sentences=2)\n",
    "                response = response+\" \"+ wiki\n",
    "        \n",
    "        "
   ]
  },
  {
   "cell_type": "code",
   "execution_count": null,
   "metadata": {},
   "outputs": [],
   "source": []
  },
  {
   "cell_type": "code",
   "execution_count": null,
   "metadata": {},
   "outputs": [],
   "source": []
  },
  {
   "cell_type": "code",
   "execution_count": null,
   "metadata": {},
   "outputs": [],
   "source": []
  },
  {
   "cell_type": "code",
   "execution_count": null,
   "metadata": {},
   "outputs": [],
   "source": []
  },
  {
   "cell_type": "code",
   "execution_count": null,
   "metadata": {},
   "outputs": [],
   "source": []
  },
  {
   "cell_type": "code",
   "execution_count": null,
   "metadata": {},
   "outputs": [],
   "source": []
  },
  {
   "cell_type": "code",
   "execution_count": null,
   "metadata": {},
   "outputs": [],
   "source": []
  }
 ],
 "metadata": {
  "kernelspec": {
   "display_name": "Python 3",
   "language": "python",
   "name": "python3"
  },
  "language_info": {
   "codemirror_mode": {
    "name": "ipython",
    "version": 3
   },
   "file_extension": ".py",
   "mimetype": "text/x-python",
   "name": "python",
   "nbconvert_exporter": "python",
   "pygments_lexer": "ipython3",
   "version": "3.7.6"
  }
 },
 "nbformat": 4,
 "nbformat_minor": 4
}
